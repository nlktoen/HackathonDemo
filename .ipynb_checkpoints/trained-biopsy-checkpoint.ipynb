{
 "cells": [
  {
   "cell_type": "code",
   "execution_count": 1,
   "metadata": {},
   "outputs": [],
   "source": [
    "import matplotlib.pyplot as plt\n",
    "import numpy as np\n",
    "import pandas as pd\n",
    "import sklearn.linear_model"
   ]
  },
  {
   "cell_type": "code",
   "execution_count": 2,
   "metadata": {},
   "outputs": [],
   "source": [
    "df=pd.read_excel(\"scaled-biopsy.xls\")"
   ]
  },
  {
   "cell_type": "code",
   "execution_count": 3,
   "metadata": {},
   "outputs": [
    {
     "data": {
      "text/html": [
       "<div>\n",
       "<style scoped>\n",
       "    .dataframe tbody tr th:only-of-type {\n",
       "        vertical-align: middle;\n",
       "    }\n",
       "\n",
       "    .dataframe tbody tr th {\n",
       "        vertical-align: top;\n",
       "    }\n",
       "\n",
       "    .dataframe thead th {\n",
       "        text-align: right;\n",
       "    }\n",
       "</style>\n",
       "<table border=\"1\" class=\"dataframe\">\n",
       "  <thead>\n",
       "    <tr style=\"text-align: right;\">\n",
       "      <th></th>\n",
       "      <th>Age</th>\n",
       "      <th>Number of sexual partners</th>\n",
       "      <th>First sexual intercourse</th>\n",
       "      <th>Num of pregnancies</th>\n",
       "      <th>Smokes (years)</th>\n",
       "      <th>Smokes (packs/year)</th>\n",
       "      <th>Hormonal Contraceptives (years)</th>\n",
       "      <th>IUD (years)</th>\n",
       "      <th>STDs (number)</th>\n",
       "      <th>Biopsy</th>\n",
       "    </tr>\n",
       "  </thead>\n",
       "  <tbody>\n",
       "    <tr>\n",
       "      <td>0</td>\n",
       "      <td>-1.038563</td>\n",
       "      <td>0.905429</td>\n",
       "      <td>-0.715109</td>\n",
       "      <td>-0.898163</td>\n",
       "      <td>-0.295999</td>\n",
       "      <td>-0.202021</td>\n",
       "      <td>-0.570927</td>\n",
       "      <td>-0.245209</td>\n",
       "      <td>-0.292857</td>\n",
       "      <td>0</td>\n",
       "    </tr>\n",
       "    <tr>\n",
       "      <td>1</td>\n",
       "      <td>-1.391796</td>\n",
       "      <td>-0.919610</td>\n",
       "      <td>-1.073500</td>\n",
       "      <td>-0.898163</td>\n",
       "      <td>-0.295999</td>\n",
       "      <td>-0.202021</td>\n",
       "      <td>-0.570927</td>\n",
       "      <td>-0.245209</td>\n",
       "      <td>-0.292857</td>\n",
       "      <td>0</td>\n",
       "    </tr>\n",
       "    <tr>\n",
       "      <td>2</td>\n",
       "      <td>0.845342</td>\n",
       "      <td>-0.919610</td>\n",
       "      <td>0.001671</td>\n",
       "      <td>-0.898163</td>\n",
       "      <td>-0.295999</td>\n",
       "      <td>-0.202021</td>\n",
       "      <td>-0.570927</td>\n",
       "      <td>-0.245209</td>\n",
       "      <td>-0.292857</td>\n",
       "      <td>0</td>\n",
       "    </tr>\n",
       "    <tr>\n",
       "      <td>3</td>\n",
       "      <td>2.964736</td>\n",
       "      <td>1.513776</td>\n",
       "      <td>-0.356719</td>\n",
       "      <td>1.244442</td>\n",
       "      <td>8.821219</td>\n",
       "      <td>16.547162</td>\n",
       "      <td>0.270597</td>\n",
       "      <td>-0.245209</td>\n",
       "      <td>-0.292857</td>\n",
       "      <td>0</td>\n",
       "    </tr>\n",
       "    <tr>\n",
       "      <td>4</td>\n",
       "      <td>2.258271</td>\n",
       "      <td>0.297083</td>\n",
       "      <td>1.435231</td>\n",
       "      <td>1.244442</td>\n",
       "      <td>-0.295999</td>\n",
       "      <td>-0.202021</td>\n",
       "      <td>3.636693</td>\n",
       "      <td>-0.245209</td>\n",
       "      <td>-0.292857</td>\n",
       "      <td>0</td>\n",
       "    </tr>\n",
       "    <tr>\n",
       "      <td>...</td>\n",
       "      <td>...</td>\n",
       "      <td>...</td>\n",
       "      <td>...</td>\n",
       "      <td>...</td>\n",
       "      <td>...</td>\n",
       "      <td>...</td>\n",
       "      <td>...</td>\n",
       "      <td>...</td>\n",
       "      <td>...</td>\n",
       "      <td>...</td>\n",
       "    </tr>\n",
       "    <tr>\n",
       "      <td>853</td>\n",
       "      <td>0.845342</td>\n",
       "      <td>0.297083</td>\n",
       "      <td>0.360061</td>\n",
       "      <td>-1.612364</td>\n",
       "      <td>-0.295999</td>\n",
       "      <td>-0.202021</td>\n",
       "      <td>-0.570927</td>\n",
       "      <td>-0.245209</td>\n",
       "      <td>-0.292857</td>\n",
       "      <td>0</td>\n",
       "    </tr>\n",
       "    <tr>\n",
       "      <td>854</td>\n",
       "      <td>0.609854</td>\n",
       "      <td>-0.311264</td>\n",
       "      <td>0.718451</td>\n",
       "      <td>-0.898163</td>\n",
       "      <td>-0.295999</td>\n",
       "      <td>-0.202021</td>\n",
       "      <td>1.673137</td>\n",
       "      <td>-0.245209</td>\n",
       "      <td>-0.292857</td>\n",
       "      <td>0</td>\n",
       "    </tr>\n",
       "    <tr>\n",
       "      <td>855</td>\n",
       "      <td>-0.214355</td>\n",
       "      <td>-0.311264</td>\n",
       "      <td>0.001671</td>\n",
       "      <td>-1.612364</td>\n",
       "      <td>-0.295999</td>\n",
       "      <td>-0.202021</td>\n",
       "      <td>-0.548486</td>\n",
       "      <td>-0.245209</td>\n",
       "      <td>-0.292857</td>\n",
       "      <td>0</td>\n",
       "    </tr>\n",
       "    <tr>\n",
       "      <td>856</td>\n",
       "      <td>0.727598</td>\n",
       "      <td>-0.311264</td>\n",
       "      <td>2.510402</td>\n",
       "      <td>-0.183961</td>\n",
       "      <td>-0.295999</td>\n",
       "      <td>-0.202021</td>\n",
       "      <td>-0.548486</td>\n",
       "      <td>-0.245209</td>\n",
       "      <td>-0.292857</td>\n",
       "      <td>0</td>\n",
       "    </tr>\n",
       "    <tr>\n",
       "      <td>857</td>\n",
       "      <td>0.256622</td>\n",
       "      <td>-0.311264</td>\n",
       "      <td>1.076841</td>\n",
       "      <td>-0.898163</td>\n",
       "      <td>-0.295999</td>\n",
       "      <td>-0.202021</td>\n",
       "      <td>-0.430673</td>\n",
       "      <td>-0.245209</td>\n",
       "      <td>-0.292857</td>\n",
       "      <td>0</td>\n",
       "    </tr>\n",
       "  </tbody>\n",
       "</table>\n",
       "<p>858 rows × 10 columns</p>\n",
       "</div>"
      ],
      "text/plain": [
       "          Age  Number of sexual partners  First sexual intercourse  \\\n",
       "0   -1.038563                   0.905429                 -0.715109   \n",
       "1   -1.391796                  -0.919610                 -1.073500   \n",
       "2    0.845342                  -0.919610                  0.001671   \n",
       "3    2.964736                   1.513776                 -0.356719   \n",
       "4    2.258271                   0.297083                  1.435231   \n",
       "..        ...                        ...                       ...   \n",
       "853  0.845342                   0.297083                  0.360061   \n",
       "854  0.609854                  -0.311264                  0.718451   \n",
       "855 -0.214355                  -0.311264                  0.001671   \n",
       "856  0.727598                  -0.311264                  2.510402   \n",
       "857  0.256622                  -0.311264                  1.076841   \n",
       "\n",
       "     Num of pregnancies  Smokes (years)  Smokes (packs/year)  \\\n",
       "0             -0.898163       -0.295999            -0.202021   \n",
       "1             -0.898163       -0.295999            -0.202021   \n",
       "2             -0.898163       -0.295999            -0.202021   \n",
       "3              1.244442        8.821219            16.547162   \n",
       "4              1.244442       -0.295999            -0.202021   \n",
       "..                  ...             ...                  ...   \n",
       "853           -1.612364       -0.295999            -0.202021   \n",
       "854           -0.898163       -0.295999            -0.202021   \n",
       "855           -1.612364       -0.295999            -0.202021   \n",
       "856           -0.183961       -0.295999            -0.202021   \n",
       "857           -0.898163       -0.295999            -0.202021   \n",
       "\n",
       "     Hormonal Contraceptives (years)  IUD (years)  STDs (number)  Biopsy  \n",
       "0                          -0.570927    -0.245209      -0.292857       0  \n",
       "1                          -0.570927    -0.245209      -0.292857       0  \n",
       "2                          -0.570927    -0.245209      -0.292857       0  \n",
       "3                           0.270597    -0.245209      -0.292857       0  \n",
       "4                           3.636693    -0.245209      -0.292857       0  \n",
       "..                               ...          ...            ...     ...  \n",
       "853                        -0.570927    -0.245209      -0.292857       0  \n",
       "854                         1.673137    -0.245209      -0.292857       0  \n",
       "855                        -0.548486    -0.245209      -0.292857       0  \n",
       "856                        -0.548486    -0.245209      -0.292857       0  \n",
       "857                        -0.430673    -0.245209      -0.292857       0  \n",
       "\n",
       "[858 rows x 10 columns]"
      ]
     },
     "execution_count": 3,
     "metadata": {},
     "output_type": "execute_result"
    }
   ],
   "source": [
    "df"
   ]
  },
  {
   "cell_type": "code",
   "execution_count": 4,
   "metadata": {},
   "outputs": [],
   "source": [
    "#Turn dataframe into values\n",
    "df_array=df.drop(columns='Biopsy').values"
   ]
  },
  {
   "cell_type": "code",
   "execution_count": 5,
   "metadata": {},
   "outputs": [
    {
     "data": {
      "text/plain": [
       "array([[-1.03856336e+00,  9.05429457e-01, -7.15109408e-01, ...,\n",
       "        -5.70926728e-01, -2.45209271e-01, -2.92857071e-01],\n",
       "       [-1.39179566e+00, -9.19610028e-01, -1.07349952e+00, ...,\n",
       "        -5.70926728e-01, -2.45209271e-01, -2.92857071e-01],\n",
       "       [ 8.45342268e-01, -9.19610028e-01,  1.67081637e-03, ...,\n",
       "        -5.70926728e-01, -2.45209271e-01, -2.92857071e-01],\n",
       "       ...,\n",
       "       [-2.14354647e-01, -3.11263533e-01,  1.67081637e-03, ...,\n",
       "        -5.48486090e-01, -2.45209271e-01, -2.92857071e-01],\n",
       "       [ 7.27598166e-01, -3.11263533e-01,  2.51040160e+00, ...,\n",
       "        -5.48486090e-01, -2.45209271e-01, -2.92857071e-01],\n",
       "       [ 2.56621760e-01, -3.11263533e-01,  1.07684115e+00, ...,\n",
       "        -4.30672736e-01, -2.45209271e-01, -2.92857071e-01]])"
      ]
     },
     "execution_count": 5,
     "metadata": {},
     "output_type": "execute_result"
    }
   ],
   "source": [
    "df_array"
   ]
  },
  {
   "cell_type": "markdown",
   "metadata": {},
   "source": [
    "## Splitting the dataset"
   ]
  },
  {
   "cell_type": "markdown",
   "metadata": {},
   "source": [
    "Ratio 0.75:0.25, train: test"
   ]
  },
  {
   "cell_type": "code",
   "execution_count": 6,
   "metadata": {},
   "outputs": [],
   "source": [
    "X_train,X_test,Y_train,Y_test=sklearn.model_selection.train_test_split(df_array,df.Biopsy,test_size=0.25,random_state=5)"
   ]
  },
  {
   "cell_type": "markdown",
   "metadata": {},
   "source": [
    "## Import all the learning algorithms we want to test"
   ]
  },
  {
   "cell_type": "code",
   "execution_count": 7,
   "metadata": {},
   "outputs": [],
   "source": [
    "from sklearn.linear_model import LogisticRegression\n",
    "from sklearn.neighbors  import KNeighborsClassifier\n",
    "from sklearn.discriminant_analysis import LinearDiscriminantAnalysis\n",
    "from sklearn.naive_bayes import GaussianNB\n",
    "from sklearn.svm import SVC"
   ]
  },
  {
   "cell_type": "markdown",
   "metadata": {},
   "source": [
    "## Prepare an array with all the algorithms"
   ]
  },
  {
   "cell_type": "code",
   "execution_count": 8,
   "metadata": {},
   "outputs": [],
   "source": [
    "models = []\n",
    "models.append(('LR',LogisticRegression(solver='saga',multi_class='ovr')))\n",
    "models.append(('KNN',KNeighborsClassifier()))\n",
    "models.append(('LDA',LinearDiscriminantAnalysis()))\n",
    "models.append(('NB',GaussianNB()))\n",
    "models.append(('SVM',SVC()))"
   ]
  },
  {
   "cell_type": "markdown",
   "metadata": {},
   "source": [
    "## Import some utilities of sklearn to compare algorithms"
   ]
  },
  {
   "cell_type": "code",
   "execution_count": 9,
   "metadata": {},
   "outputs": [],
   "source": [
    "from sklearn import  model_selection\n",
    "from sklearn.metrics import classification_report #Reporting metric\n",
    "from sklearn.metrics import confusion_matrix #Confusion_matrix Reporting\n",
    "from sklearn.metrics import accuracy_score #Accuracy calculating"
   ]
  },
  {
   "cell_type": "code",
   "execution_count": 10,
   "metadata": {},
   "outputs": [],
   "source": [
    "# Prepare the configuration to run the test\n",
    "results=[]\n",
    "names=[]\n",
    "seed=7"
   ]
  },
  {
   "cell_type": "markdown",
   "metadata": {},
   "source": [
    "## Evaluate each model in turn and save the performance result"
   ]
  },
  {
   "cell_type": "code",
   "execution_count": 11,
   "metadata": {},
   "outputs": [
    {
     "name": "stdout",
     "output_type": "stream",
     "text": [
      "LR:0.931563(+/-0.018760)\n",
      "KNN:0.926899(+/-0.019829)\n",
      "LDA:0.925313(+/-0.021973)\n",
      "NB:0.864687(+/-0.043610)\n",
      "SVM:0.931563(+/-0.018760)\n"
     ]
    },
    {
     "name": "stderr",
     "output_type": "stream",
     "text": [
      "C:\\Users\\ADMIN\\Anaconda3\\lib\\site-packages\\sklearn\\svm\\base.py:193: FutureWarning: The default value of gamma will change from 'auto' to 'scale' in version 0.22 to account better for unscaled features. Set gamma explicitly to 'auto' or 'scale' to avoid this warning.\n",
      "  \"avoid this warning.\", FutureWarning)\n",
      "C:\\Users\\ADMIN\\Anaconda3\\lib\\site-packages\\sklearn\\svm\\base.py:193: FutureWarning: The default value of gamma will change from 'auto' to 'scale' in version 0.22 to account better for unscaled features. Set gamma explicitly to 'auto' or 'scale' to avoid this warning.\n",
      "  \"avoid this warning.\", FutureWarning)\n",
      "C:\\Users\\ADMIN\\Anaconda3\\lib\\site-packages\\sklearn\\svm\\base.py:193: FutureWarning: The default value of gamma will change from 'auto' to 'scale' in version 0.22 to account better for unscaled features. Set gamma explicitly to 'auto' or 'scale' to avoid this warning.\n",
      "  \"avoid this warning.\", FutureWarning)\n",
      "C:\\Users\\ADMIN\\Anaconda3\\lib\\site-packages\\sklearn\\svm\\base.py:193: FutureWarning: The default value of gamma will change from 'auto' to 'scale' in version 0.22 to account better for unscaled features. Set gamma explicitly to 'auto' or 'scale' to avoid this warning.\n",
      "  \"avoid this warning.\", FutureWarning)\n",
      "C:\\Users\\ADMIN\\Anaconda3\\lib\\site-packages\\sklearn\\svm\\base.py:193: FutureWarning: The default value of gamma will change from 'auto' to 'scale' in version 0.22 to account better for unscaled features. Set gamma explicitly to 'auto' or 'scale' to avoid this warning.\n",
      "  \"avoid this warning.\", FutureWarning)\n",
      "C:\\Users\\ADMIN\\Anaconda3\\lib\\site-packages\\sklearn\\svm\\base.py:193: FutureWarning: The default value of gamma will change from 'auto' to 'scale' in version 0.22 to account better for unscaled features. Set gamma explicitly to 'auto' or 'scale' to avoid this warning.\n",
      "  \"avoid this warning.\", FutureWarning)\n",
      "C:\\Users\\ADMIN\\Anaconda3\\lib\\site-packages\\sklearn\\svm\\base.py:193: FutureWarning: The default value of gamma will change from 'auto' to 'scale' in version 0.22 to account better for unscaled features. Set gamma explicitly to 'auto' or 'scale' to avoid this warning.\n",
      "  \"avoid this warning.\", FutureWarning)\n",
      "C:\\Users\\ADMIN\\Anaconda3\\lib\\site-packages\\sklearn\\svm\\base.py:193: FutureWarning: The default value of gamma will change from 'auto' to 'scale' in version 0.22 to account better for unscaled features. Set gamma explicitly to 'auto' or 'scale' to avoid this warning.\n",
      "  \"avoid this warning.\", FutureWarning)\n",
      "C:\\Users\\ADMIN\\Anaconda3\\lib\\site-packages\\sklearn\\svm\\base.py:193: FutureWarning: The default value of gamma will change from 'auto' to 'scale' in version 0.22 to account better for unscaled features. Set gamma explicitly to 'auto' or 'scale' to avoid this warning.\n",
      "  \"avoid this warning.\", FutureWarning)\n",
      "C:\\Users\\ADMIN\\Anaconda3\\lib\\site-packages\\sklearn\\svm\\base.py:193: FutureWarning: The default value of gamma will change from 'auto' to 'scale' in version 0.22 to account better for unscaled features. Set gamma explicitly to 'auto' or 'scale' to avoid this warning.\n",
      "  \"avoid this warning.\", FutureWarning)\n"
     ]
    }
   ],
   "source": [
    "for name,model in models:\n",
    "    kfold=model_selection.KFold(n_splits=10,random_state=seed)\n",
    "    cv_results=model_selection.cross_val_score(model,X_train,Y_train,cv=kfold,scoring='accuracy')\n",
    "    results.append(cv_results)\n",
    "    names.append(name)\n",
    "    msg=\"%s:%f(+/-%f)\"%(name,cv_results.mean(),cv_results.std())\n",
    "    print(msg)"
   ]
  },
  {
   "cell_type": "code",
   "execution_count": 12,
   "metadata": {},
   "outputs": [
    {
     "data": {
      "image/png": "[encoded data removed]",
      "text/plain": [
       "<Figure size 432x288 with 1 Axes>"
      ]
     },
     "metadata": {
      "needs_background": "light"
     },
     "output_type": "display_data"
    }
   ],
   "source": [
    "# boxplot algorithm comparison\n",
    "fig = plt.figure()\n",
    "fig.suptitle('Algorithm Comparison')\n",
    "ax = fig.add_subplot(111)\n",
    "plt.boxplot(results)\n",
    "ax.set_xticklabels(names)\n",
    "plt.show()"
   ]
  },
  {
   "cell_type": "markdown",
   "metadata": {},
   "source": [
    "SVM best perfomed"
   ]
  },
  {
   "cell_type": "markdown",
   "metadata": {},
   "source": [
    "## BUILDING BEST MODEL"
   ]
  },
  {
   "cell_type": "code",
   "execution_count": 13,
   "metadata": {},
   "outputs": [],
   "source": [
    "svm=SVC(probability=True)"
   ]
  },
  {
   "cell_type": "code",
   "execution_count": 14,
   "metadata": {},
   "outputs": [],
   "source": [
    "# Use the whole dataset to train the model\n",
    "X = np.append(X_train, X_test, axis=0)\n",
    "Y = np.append(Y_train, Y_test, axis=0)"
   ]
  },
  {
   "cell_type": "code",
   "execution_count": 15,
   "metadata": {},
   "outputs": [
    {
     "data": {
      "text/plain": [
       "SVC(C=1.0, cache_size=200, class_weight=None, coef0=0.0,\n",
       "    decision_function_shape='ovr', degree=3, gamma='auto_deprecated',\n",
       "    kernel='rbf', max_iter=-1, probability=True, random_state=None,\n",
       "    shrinking=True, tol=0.001, verbose=False)"
      ]
     },
     "execution_count": 15,
     "metadata": {},
     "output_type": "execute_result"
    }
   ],
   "source": [
    "# Train the model\n",
    "svm.fit(X, Y)"
   ]
  },
  {
   "cell_type": "markdown",
   "metadata": {},
   "source": [
    "### Saving model to disk"
   ]
  },
  {
   "cell_type": "code",
   "execution_count": 42,
   "metadata": {},
   "outputs": [],
   "source": [
    "import pickle"
   ]
  },
  {
   "cell_type": "code",
   "execution_count": 43,
   "metadata": {},
   "outputs": [],
   "source": [
    "pickle.dump(svm, open(\"model-biopsy.pkl\",\"wb\"))"
   ]
  },
  {
   "cell_type": "markdown",
   "metadata": {},
   "source": [
    "### Loading model to check"
   ]
  },
  {
   "cell_type": "code",
   "execution_count": 44,
   "metadata": {},
   "outputs": [],
   "source": [
    "model = pickle.load(open(\"model-biopsy.pkl\",\"rb\"))"
   ]
  },
  {
   "cell_type": "code",
   "execution_count": 45,
   "metadata": {},
   "outputs": [
    {
     "data": {
      "text/plain": [
       "SVC(C=1.0, cache_size=200, class_weight=None, coef0=0.0,\n",
       "    decision_function_shape='ovr', degree=3, gamma='auto_deprecated',\n",
       "    kernel='rbf', max_iter=-1, probability=True, random_state=None,\n",
       "    shrinking=True, tol=0.001, verbose=False)"
      ]
     },
     "execution_count": 45,
     "metadata": {},
     "output_type": "execute_result"
    }
   ],
   "source": [
    "model"
   ]
  },
  {
   "cell_type": "code",
   "execution_count": null,
   "metadata": {},
   "outputs": [],
   "source": []
  }
 ],
 "metadata": {
  "kernelspec": {
   "display_name": "Python 3",
   "language": "python",
   "name": "python3"
  },
  "language_info": {
   "codemirror_mode": {
    "name": "ipython",
    "version": 3
   },
   "file_extension": ".py",
   "mimetype": "text/x-python",
   "name": "python",
   "nbconvert_exporter": "python",
   "pygments_lexer": "ipython3",
   "version": "3.7.4"
  }
 },
 "nbformat": 4,
 "nbformat_minor": 2
}
